{
 "cells": [
  {
   "metadata": {
    "ExecuteTime": {
     "end_time": "2025-04-13T22:53:41.024076Z",
     "start_time": "2025-04-13T22:53:40.147795Z"
    }
   },
   "cell_type": "code",
   "source": [
    "import torch\n",
    "torch.manual_seed(1337)\n",
    "\n",
    "# Training hyperparameters\n",
    "batch_size = 16 # how many independent sequences will we process in parallel?\n",
    "max_iters = 5000\n",
    "eval_interval = 100\n",
    "learning_rate = 1e-3\n",
    "eval_iters = 200\n",
    "\n",
    "# Model hyperparameters\n",
    "from gpt_config import GPTConfig\n",
    "config = GPTConfig(\n",
    "block_size = 8, # what is the maximum context length for predictions?\n",
    "device = 'cuda' if torch.cuda.is_available() else 'cpu',\n",
    "n_embd = 64,\n",
    "n_head = 4,\n",
    "n_layer = 4,\n",
    "dropout = 0.0\n",
    ")"
   ],
   "id": "aba29f36754905c",
   "outputs": [],
   "execution_count": 1
  },
  {
   "metadata": {
    "ExecuteTime": {
     "end_time": "2025-04-13T22:53:41.032045Z",
     "start_time": "2025-04-13T22:53:41.028850Z"
    }
   },
   "cell_type": "code",
   "source": [
    "# Our vocabulary is determined by our dataset. We've already download the tiny shakespeare dataset:\n",
    "# !wget https://raw.githubusercontent.com/karpathy/char-rnn/master/data/tinyshakespeare/input.txt\n",
    "# read it in to inspect it\n",
    "with open('input.txt', 'r', encoding='utf-8') as f:\n",
    "    text = f.read()\n",
    "print(\"length of dataset in characters: \", len(text))"
   ],
   "id": "87108e16e0667cc7",
   "outputs": [
    {
     "name": "stdout",
     "output_type": "stream",
     "text": [
      "length of dataset in characters:  1115389\n"
     ]
    }
   ],
   "execution_count": 2
  },
  {
   "metadata": {
    "ExecuteTime": {
     "end_time": "2025-04-13T22:53:41.125553Z",
     "start_time": "2025-04-13T22:53:41.112353Z"
    }
   },
   "cell_type": "code",
   "source": [
    "# Based on the text corpus, we'll build a vocabulary.\n",
    "# The vocabulary will translate each character into an integer.\n",
    "\n",
    "# here are all the unique characters that occur in this text\n",
    "chars = sorted(list(set(text)))\n",
    "config.vocab_size = len(chars)\n",
    "print(f\"The corpus contains a total of {config.vocab_size} unique characters: {''.join(chars)}\")\n",
    "\n",
    "# create a mapping from characters to integers\n",
    "stoi = { ch:i for i,ch in enumerate(chars) }\n",
    "itos = { i:ch for i,ch in enumerate(chars) }\n",
    "encode = lambda s: [stoi[c] for c in s] # encoder: take a string, output a list of integers\n",
    "decode = lambda l: ''.join([itos[i] for i in l]) # decoder: take a list of integers, output a string\n",
    "\n",
    "# Now every string can be encoded as a sequence of integers.\n",
    "print(encode(\"hello world\"))\n",
    "print(decode(encode(\"hello world\")))"
   ],
   "id": "765e6334f9e05a22",
   "outputs": [
    {
     "name": "stdout",
     "output_type": "stream",
     "text": [
      "The corpus contains a total of 65 unique characters: \n",
      " !$&',-.3:;?ABCDEFGHIJKLMNOPQRSTUVWXYZabcdefghijklmnopqrstuvwxyz\n",
      "[46, 43, 50, 50, 53, 1, 61, 53, 56, 50, 42]\n",
      "hello world\n"
     ]
    }
   ],
   "execution_count": 3
  },
  {
   "metadata": {
    "ExecuteTime": {
     "end_time": "2025-04-13T22:53:41.220077Z",
     "start_time": "2025-04-13T22:53:41.134263Z"
    }
   },
   "cell_type": "code",
   "source": [
    "# let's now get the text dataset ready for training\n",
    "data = torch.tensor(encode(text), dtype=torch.long)\n",
    "print(f\"Full dataset is of size: {data.shape}\")\n",
    "\n",
    "# Let's now split up the data into train and validation sets\n",
    "n = int(0.9*len(data)) # first 90% will be train, rest val\n",
    "train_data = data[:n]\n",
    "val_data = data[n:]\n",
    "\n",
    "print(\"We're going to train in blocks, and each block gets a growing input that eventually includes the entire block.\")\n",
    "print(f\"For example, the first block is: {train_data[:config.block_size]}\")\n",
    "\n",
    "x = train_data[:config.block_size]\n",
    "y = train_data[1:config.block_size+1]\n",
    "for t in range(config.block_size):\n",
    "    context = x[:t+1]\n",
    "    target = y[t]\n",
    "    print(f\"--->For this block, when input is {context} the target is: {target}\")"
   ],
   "id": "85a34cde338e5772",
   "outputs": [
    {
     "name": "stdout",
     "output_type": "stream",
     "text": [
      "Full dataset is of size: torch.Size([1115389])\n",
      "We're going to train in blocks, and each block gets a growing input that eventually includes the entire block.\n",
      "For example, the first block is: tensor([18, 47, 56, 57, 58,  1, 15, 47])\n",
      "--->For this block, when input is tensor([18]) the target is: 47\n",
      "--->For this block, when input is tensor([18, 47]) the target is: 56\n",
      "--->For this block, when input is tensor([18, 47, 56]) the target is: 57\n",
      "--->For this block, when input is tensor([18, 47, 56, 57]) the target is: 58\n",
      "--->For this block, when input is tensor([18, 47, 56, 57, 58]) the target is: 1\n",
      "--->For this block, when input is tensor([18, 47, 56, 57, 58,  1]) the target is: 15\n",
      "--->For this block, when input is tensor([18, 47, 56, 57, 58,  1, 15]) the target is: 47\n",
      "--->For this block, when input is tensor([18, 47, 56, 57, 58,  1, 15, 47]) the target is: 58\n"
     ]
    }
   ],
   "execution_count": 4
  },
  {
   "metadata": {
    "ExecuteTime": {
     "end_time": "2025-04-13T22:53:41.231699Z",
     "start_time": "2025-04-13T22:53:41.227828Z"
    }
   },
   "cell_type": "code",
   "source": [
    "# Data / Training Helper functions\n",
    "# data loading\n",
    "def get_batch(split):\n",
    "    # generate a small batch of data of inputs x and targets y\n",
    "    data = train_data if split == 'train' else val_data\n",
    "    ix = torch.randint(len(data) - config.block_size, (batch_size,))\n",
    "    x = torch.stack([data[i:i+config.block_size] for i in ix])\n",
    "    y = torch.stack([data[i+1:i+config.block_size+1] for i in ix])\n",
    "    x, y = x.to(config.device), y.to(config.device)\n",
    "    return x, y\n",
    "\n",
    "@torch.no_grad()\n",
    "def estimate_loss():\n",
    "    out = {}\n",
    "    model.eval()\n",
    "    for split in ['train', 'val']:\n",
    "        losses = torch.zeros(eval_iters)\n",
    "        for k in range(eval_iters):\n",
    "            X, Y = get_batch(split)\n",
    "            logits, loss = model(X, Y)\n",
    "            losses[k] = loss.item()\n",
    "        out[split] = losses.mean()\n",
    "    model.train()\n",
    "    return out"
   ],
   "id": "1feaf4c320b2a9a0",
   "outputs": [],
   "execution_count": 5
  },
  {
   "metadata": {
    "collapsed": true,
    "ExecuteTime": {
     "end_time": "2025-04-13T22:55:59.947473Z",
     "start_time": "2025-04-13T22:53:41.237891Z"
    }
   },
   "cell_type": "code",
   "source": [
    "from gpt_zero import GPT\n",
    "#from gpt2 import GPT\n",
    "model = GPT(config)\n",
    "m = model.to(config.device)\n",
    "# print the number of parameters in the model\n",
    "print(sum(p.numel() for p in m.parameters())/1e6, 'M parameters')\n",
    "\n",
    "# create a PyTorch optimizer\n",
    "optimizer = torch.optim.AdamW(model.parameters(), lr=learning_rate)\n",
    "\n",
    "for iter in range(max_iters):\n",
    "    # every once in a while evaluate the loss on train and val sets\n",
    "    if iter % eval_interval == 0 or iter == max_iters - 1:\n",
    "        losses = estimate_loss()\n",
    "        print(f\"step {iter}: train loss {losses['train']:.4f}, val loss {losses['val']:.4f}\")\n",
    "\n",
    "    # sample a batch of data\n",
    "    xb, yb = get_batch('train')\n",
    "\n",
    "    # evaluate the loss\n",
    "    logits, loss = model(xb, yb)\n",
    "    optimizer.zero_grad(set_to_none=True)\n",
    "    loss.backward()\n",
    "    optimizer.step()\n",
    "\n",
    "# generate from the model\n",
    "context = torch.zeros((1, 1), dtype=torch.long, device=config.device)\n",
    "print(decode(m.generate(context, max_new_tokens=2000)[0].tolist()))"
   ],
   "id": "initial_id",
   "outputs": [
    {
     "name": "stdout",
     "output_type": "stream",
     "text": [
      "0.208961 M parameters\n",
      "step 0: train loss 4.3422, val loss 4.3382\n",
      "step 100: train loss 2.6847, val loss 2.6979\n",
      "step 200: train loss 2.4974, val loss 2.5099\n",
      "step 300: train loss 2.4194, val loss 2.4496\n",
      "step 400: train loss 2.3626, val loss 2.3679\n",
      "step 500: train loss 2.3054, val loss 2.3258\n",
      "step 600: train loss 2.2860, val loss 2.2949\n",
      "step 700: train loss 2.2826, val loss 2.2993\n",
      "step 800: train loss 2.2276, val loss 2.2624\n",
      "step 900: train loss 2.2075, val loss 2.2358\n",
      "step 1000: train loss 2.2172, val loss 2.2121\n",
      "step 1100: train loss 2.1702, val loss 2.2006\n",
      "step 1200: train loss 2.1630, val loss 2.1893\n",
      "step 1300: train loss 2.1463, val loss 2.1952\n",
      "step 1400: train loss 2.1294, val loss 2.1568\n",
      "step 1500: train loss 2.1102, val loss 2.1628\n",
      "step 1600: train loss 2.1125, val loss 2.1389\n",
      "step 1700: train loss 2.1068, val loss 2.1554\n",
      "step 1800: train loss 2.0849, val loss 2.1466\n",
      "step 1900: train loss 2.0732, val loss 2.1052\n",
      "step 2000: train loss 2.0538, val loss 2.1465\n",
      "step 2100: train loss 2.0506, val loss 2.1133\n",
      "step 2200: train loss 2.0359, val loss 2.0909\n",
      "step 2300: train loss 2.0325, val loss 2.1014\n",
      "step 2400: train loss 2.0187, val loss 2.0924\n",
      "step 2500: train loss 2.0170, val loss 2.1200\n",
      "step 2600: train loss 2.0044, val loss 2.0884\n",
      "step 2700: train loss 2.0068, val loss 2.0952\n",
      "step 2800: train loss 1.9833, val loss 2.0931\n",
      "step 2900: train loss 1.9929, val loss 2.0931\n",
      "step 3000: train loss 1.9897, val loss 2.0763\n",
      "step 3100: train loss 1.9672, val loss 2.0738\n",
      "step 3200: train loss 1.9735, val loss 2.0720\n",
      "step 3300: train loss 1.9760, val loss 2.0695\n",
      "step 3400: train loss 1.9708, val loss 2.0610\n",
      "step 3500: train loss 1.9649, val loss 2.0583\n",
      "step 3600: train loss 1.9609, val loss 2.0562\n",
      "step 3700: train loss 1.9589, val loss 2.0556\n",
      "step 3800: train loss 1.9394, val loss 2.0637\n",
      "step 3900: train loss 1.9284, val loss 2.0561\n",
      "step 4000: train loss 1.9341, val loss 2.0397\n",
      "step 4100: train loss 1.9334, val loss 2.0427\n",
      "step 4200: train loss 1.9516, val loss 2.0540\n",
      "step 4300: train loss 1.9391, val loss 2.0489\n",
      "step 4400: train loss 1.9443, val loss 2.0578\n",
      "step 4500: train loss 1.9255, val loss 2.0397\n",
      "step 4600: train loss 1.9043, val loss 2.0523\n",
      "step 4700: train loss 1.9101, val loss 2.0369\n",
      "step 4800: train loss 1.9183, val loss 2.0397\n",
      "step 4900: train loss 1.8940, val loss 2.0218\n",
      "step 4999: train loss 1.8809, val loss 2.0306\n",
      "\n",
      "WARWICK:\n",
      "\n",
      "Yeart, their to you's my 'tcknow your turrothose, lowess are hath,\n",
      "I why, you do, those you do brother that in that old\n",
      "Of those pown:\n",
      "Fool and you delonge folche Here yet real; masio a'epit of you Esh of to soursseloware beare? bear these\n",
      "But was ote! it as fetroing were untils; poft, aoi thosam God my the voics!\n",
      "\n",
      "ROMEO:\n",
      "Wwell-Bethal,\n",
      "Be lords!\n",
      "Or a warwick.\n",
      "\n",
      "STABTOVLYIUS:\n",
      "My good eques other KI hand!\n",
      "Cith's throsw. Jost buider\n",
      "Behief us lord man:\n",
      "Hope i' in us dearop's in me honours! That I weath is all that well\n",
      "So? I mewel? from fhious for or that me then and but me! I wain pronesgous hears, me to, stand you.\n",
      "\n",
      "AUNII:\n",
      "My then to to suret.\n",
      "I do light tath. hears!\n",
      "\n",
      "BENINIUS:\n",
      "No, out the\n",
      "the Romploce.\n",
      "And.\n",
      "\n",
      "Which man, shoppeare, your from foa your whild vontiched beet rine may, this me usesger\n",
      "With,\n",
      "You fork,\n",
      "By head.\n",
      "But look's labss awife mont!\n",
      "Doe of those thou my juyster look!\n",
      "O why look us? whanstoody pow of him now lheess be stomes and brinks.\n",
      "\n",
      "ANGBROKE:\n",
      "Fa IVROMESANES:\n",
      "Mety, aress it disped, yet shall? I in arge of lie be cruthed;\n",
      "I'll rays-duther your userouse my's queen, bish?\n",
      "Grow.\n",
      "\n",
      "BUCINIU:\n",
      "I do may, hear-volity, you.\n",
      "\n",
      "PYROBRUS:\n",
      "Jrouse fly to nuster; is the hathecome spures.\n",
      "\n",
      "AUTHY:\n",
      "How\n",
      "I nom theas, how so! no sir joy,\n",
      "They where qonce,\n",
      "Bity are a you wreen marry, thot me for him, I say\n",
      "No, Call fearing to the again.\n",
      "\n",
      "ARCESHUS:Nir His but buth pathere youbling:\n",
      "So you the see on my do my mistal slows--wild kinks?\n",
      "\n",
      "NARCI; quean\n",
      "Host her.\n",
      "O, nither you just your what your you but lowe of the likes.\n",
      "\n",
      "ROMBERS:\n",
      "Let dequess,\n",
      "Sowome a that, fou wrys.\n",
      "I\n",
      "Hade his dohe,-go,\n",
      "I gour nrong.\n",
      "As your that thisNong nreat loves seat hare,\n",
      "No, say now to the make and yous mordiaund;\n",
      "IfIBll that you that ill, that in ere.\n",
      "Infalie,\n",
      "Here contalive?\n",
      "\n",
      "LADWARD:\n",
      "Be for it stand not youUS:\n",
      "Huswer, that that had thouse;\n",
      "Did,\n",
      "A selaoumens\n",
      "And of Moil athat shido me;\n",
      "Firs, go shalp.\n",
      "Prue his did in\n",
      "This somons you, till tI hearth.\n",
      "\n",
      "BRUTUS:\n",
      "But\n",
      "My For bouth.\n",
      "Hearth!\n",
      "Foo, how\n"
     ]
    }
   ],
   "execution_count": 6
  },
  {
   "metadata": {
    "ExecuteTime": {
     "end_time": "2025-04-13T22:55:59.974137Z",
     "start_time": "2025-04-13T22:55:59.972450Z"
    }
   },
   "cell_type": "code",
   "source": "",
   "id": "faf44f85d8496611",
   "outputs": [],
   "execution_count": null
  },
  {
   "metadata": {
    "ExecuteTime": {
     "end_time": "2025-04-13T22:55:59.985530Z",
     "start_time": "2025-04-13T22:55:59.983557Z"
    }
   },
   "cell_type": "code",
   "source": "",
   "id": "ed53bf12be4409d2",
   "outputs": [],
   "execution_count": null
  }
 ],
 "metadata": {
  "kernelspec": {
   "display_name": "Python 3",
   "language": "python",
   "name": "python3"
  },
  "language_info": {
   "codemirror_mode": {
    "name": "ipython",
    "version": 2
   },
   "file_extension": ".py",
   "mimetype": "text/x-python",
   "name": "python",
   "nbconvert_exporter": "python",
   "pygments_lexer": "ipython2",
   "version": "2.7.6"
  }
 },
 "nbformat": 4,
 "nbformat_minor": 5
}
